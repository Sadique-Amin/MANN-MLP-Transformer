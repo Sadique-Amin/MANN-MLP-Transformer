{
  "nbformat": 4,
  "nbformat_minor": 0,
  "metadata": {
    "colab": {
      "provenance": []
    },
    "kernelspec": {
      "name": "python3",
      "display_name": "Python 3"
    },
    "language_info": {
      "name": "python"
    }
  },
  "cells": [
    {
      "cell_type": "code",
      "execution_count": null,
      "metadata": {
        "id": "PO9yf1tEnnIe"
      },
      "outputs": [],
      "source": [
        "from scipy.signal import find_peaks\n",
        "from scipy.stats import pearsonr\n",
        "import numpy as np\n",
        "\n",
        "# Assuming y_test and test_predictions are already defined\n",
        "nse_values = []\n",
        "rsr_values = []\n",
        "evol_values = []\n",
        "tpe_values = []\n",
        "kge_value = []\n",
        "\n",
        "for step in range(n_steps_out):\n",
        "    observed = y_test[:, step]\n",
        "    predicted = test_predictions[:, step]\n",
        "\n",
        "    # Nash-Sutcliffe Efficiency (NSE)\n",
        "    numerator = np.sum((observed - predicted) ** 2)\n",
        "    denominator = np.sum((observed - np.mean(observed)) ** 2)\n",
        "    nse = 1 - (numerator / denominator)\n",
        "    nse_values.append(nse)\n",
        "\n",
        "    # R-Squared Reliability (RSR)\n",
        "    rsr = np.sqrt(numerator / denominator)\n",
        "    rsr_values.append(rsr)\n",
        "\n",
        "    # Evolution Criterion (Evol)\n",
        "    evol = ((np.sum(predicted) - np.sum(observed)) / np.sum(observed)) * 100\n",
        "    evol_values.append(evol)\n",
        "\n",
        "    # Modified Total Percent Error (TPE) using top 20% peaks\n",
        "    peaks, _ = find_peaks(observed)\n",
        "    peak_values = observed[peaks]\n",
        "    num_top_peaks = max(1, int(0.2 * len(peak_values)))\n",
        "    top_peak_indices = peaks[np.argsort(peak_values)[-num_top_peaks:]]\n",
        "    observed_top = observed[top_peak_indices]\n",
        "    predicted_top = predicted[top_peak_indices]\n",
        "    numerator_tpe = np.sum(np.abs(observed_top - predicted_top))\n",
        "    denominator_tpe = np.sum(observed_top)\n",
        "    tpe = numerator_tpe / denominator_tpe\n",
        "    tpe_values.append(tpe)\n",
        "\n",
        "    # Kling-Gupta Efficiency (KGE)\n",
        "    r, _ = pearsonr(predicted, observed)\n",
        "    mean_simulated = np.mean(predicted)\n",
        "    mean_observed = np.mean(observed)\n",
        "    std_simulated = np.std(predicted)\n",
        "    std_observed = np.std(observed)\n",
        "    kge = 1 - np.sqrt(\n",
        "        (r - 1)**2 +\n",
        "        ((std_simulated / std_observed) - 1)**2 +\n",
        "        ((mean_simulated / mean_observed) - 1)**2\n",
        "    )\n",
        "    kge_value.append(kge)\n",
        "# Print metrics for all timesteps\n",
        "print(\"NSE Values:\", np.round(nse_values, 4))\n",
        "print(\"RSR Values:\", np.round(rsr_values, 4))\n",
        "print(\"Evol Values:\", np.round(evol_values, 4))\n",
        "print(\"PE Values:\", np.round(tpe_values, 4))\n",
        "print(\"KGE Values:\", np.round(kge_value, 4))\n"
      ]
    }
  ]
}